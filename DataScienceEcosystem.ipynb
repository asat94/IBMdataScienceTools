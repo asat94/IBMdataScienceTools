{
 "cells": [
  {
   "cell_type": "markdown",
   "id": "ce509fc5-5fc4-4b83-b79a-0cfcccb45714",
   "metadata": {},
   "source": [
    "# Data Science Tools and Ecosystem"
   ]
  },
  {
   "cell_type": "markdown",
   "id": "0303ce9a-219f-4388-9140-aca573b162f5",
   "metadata": {},
   "source": [
    "#### In this notebook, Data Science Tools and Ecosystem are summarized."
   ]
  },
  {
   "cell_type": "markdown",
   "id": "36377a6c-0d4d-465f-a8fb-99be8b13777e",
   "metadata": {},
   "source": [
    "### <b>Objectives:</b>"
   ]
  },
  {
   "cell_type": "markdown",
   "id": "993675e9-d736-417c-ac86-0319bfefa0dd",
   "metadata": {},
   "source": [
    "<ul>\n",
    "<li>Popular languages for Data Science</li>\n",
    "<li>Commonly used libraries in Python</li>\n",
    "<li>Evaluating arithmetic expressions in Python</li>\n",
    "</ul>"
   ]
  },
  {
   "cell_type": "markdown",
   "id": "3daded4e-d1c0-445e-96a1-18a7b34d2a45",
   "metadata": {},
   "source": [
    "#### Some of the popular languages that Data Scientists use are:"
   ]
  },
  {
   "cell_type": "markdown",
   "id": "d8705c15-0266-45c2-ab39-78e51047238c",
   "metadata": {},
   "source": [
    "<ol>\n",
    "<li>Python</li>\n",
    "<li>R</li>\n",
    "<li>SQL</li>\n",
    "</ol>"
   ]
  },
  {
   "cell_type": "markdown",
   "id": "3fdeefcf-438b-4608-b87d-244ae4e84a4b",
   "metadata": {},
   "source": [
    "#### Some of the commonly used libraries used by Data Scientists include:"
   ]
  },
  {
   "cell_type": "markdown",
   "id": "a96469a9-fa4a-4c3e-88f5-1774c21fdfa8",
   "metadata": {},
   "source": [
    "<ol>\n",
    "<li>Numpy</li>\n",
    "<li>Pandas</li>\n",
    "<li>Seaborn</li>\n",
    "<li>Matplotlib</li>    \n",
    "</ol>"
   ]
  },
  {
   "cell_type": "markdown",
   "id": "19d419a1-3011-432e-92d5-2abd2bf231d0",
   "metadata": {},
   "source": [
    "<tr>\n",
    "<th><Data Science Tools></th>\n",
    "<td><Apache Spark></td>\n",
    "<td><Jupyter Notebook></td> \n",
    "<td><Apache Hadoop></td>    \n",
    "</tr>"
   ]
  },
  {
   "cell_type": "markdown",
   "id": "e37a5c22-8cd6-4c98-9b8c-cbfdcbeee886",
   "metadata": {},
   "source": [
    "| Data Science Tools |\n",
    "|--------------------|\n",
    "|Jupyter Notebook  |\n",
    "|Anaconda|\n",
    "|Hadoop|"
   ]
  },
  {
   "cell_type": "markdown",
   "id": "04a70d6f-06fb-4802-bb29-dd9ee17f1f36",
   "metadata": {},
   "source": [
    "### Below are a few examples of evaluating arithmetic expressions in Python"
   ]
  },
  {
   "cell_type": "markdown",
   "id": "edd6ced1-178e-46d4-a072-902abb82f52f",
   "metadata": {},
   "source": [
    "#### This a simple arithmetic expression to mutiply then add integers."
   ]
  },
  {
   "cell_type": "code",
   "execution_count": 16,
   "id": "240ea24a-a38e-4b49-b8dd-ab4e39a411e5",
   "metadata": {},
   "outputs": [
    {
     "data": {
      "text/plain": [
       "17"
      ]
     },
     "execution_count": 16,
     "metadata": {},
     "output_type": "execute_result"
    }
   ],
   "source": [
    "(3*4)+5"
   ]
  },
  {
   "cell_type": "markdown",
   "id": "f9a0b25b-fa83-4cc1-8fcd-a7151533d8be",
   "metadata": {},
   "source": [
    "#### This will convert 200 minutes to hours by diving by 60"
   ]
  },
  {
   "cell_type": "code",
   "execution_count": 17,
   "id": "b8f25ae0-9337-4b53-a057-45b2927192f6",
   "metadata": {},
   "outputs": [
    {
     "data": {
      "text/plain": [
       "3.3333333333333335"
      ]
     },
     "execution_count": 17,
     "metadata": {},
     "output_type": "execute_result"
    }
   ],
   "source": [
    "200/60"
   ]
  },
  {
   "cell_type": "markdown",
   "id": "60dbba3e-3ae2-42d8-93d1-7d3aaaecc9a5",
   "metadata": {},
   "source": [
    "## Author"
   ]
  },
  {
   "cell_type": "markdown",
   "id": "6a16af07-0cea-4943-8bf8-015d87401461",
   "metadata": {},
   "source": [
    "#### Asatilla"
   ]
  }
 ],
 "metadata": {
  "kernelspec": {
   "display_name": "Python 3 (ipykernel)",
   "language": "python",
   "name": "python3"
  },
  "language_info": {
   "codemirror_mode": {
    "name": "ipython",
    "version": 3
   },
   "file_extension": ".py",
   "mimetype": "text/x-python",
   "name": "python",
   "nbconvert_exporter": "python",
   "pygments_lexer": "ipython3",
   "version": "3.12.5"
  }
 },
 "nbformat": 4,
 "nbformat_minor": 5
}
